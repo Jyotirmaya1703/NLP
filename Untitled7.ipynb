{
 "cells": [
  {
   "cell_type": "code",
   "execution_count": 1,
   "id": "37d2cfe6",
   "metadata": {},
   "outputs": [
    {
     "name": "stdout",
     "output_type": "stream",
     "text": [
      "Requirement already satisfied: keras in c:\\users\\hp\\anaconda3\\lib\\site-packages (2.11.0)\n",
      "Requirement already satisfied: tensorflow in c:\\users\\hp\\anaconda3\\lib\\site-packages (2.11.0)\n",
      "Requirement already satisfied: tensorflow-intel==2.11.0 in c:\\users\\hp\\anaconda3\\lib\\site-packages (from tensorflow) (2.11.0)\n",
      "Requirement already satisfied: setuptools in c:\\users\\hp\\anaconda3\\lib\\site-packages (from tensorflow-intel==2.11.0->tensorflow) (63.4.1)\n",
      "Requirement already satisfied: gast<=0.4.0,>=0.2.1 in c:\\users\\hp\\anaconda3\\lib\\site-packages (from tensorflow-intel==2.11.0->tensorflow) (0.4.0)\n",
      "Requirement already satisfied: h5py>=2.9.0 in c:\\users\\hp\\anaconda3\\lib\\site-packages (from tensorflow-intel==2.11.0->tensorflow) (3.7.0)\n",
      "Requirement already satisfied: typing-extensions>=3.6.6 in c:\\users\\hp\\anaconda3\\lib\\site-packages (from tensorflow-intel==2.11.0->tensorflow) (4.3.0)\n",
      "Requirement already satisfied: tensorboard<2.12,>=2.11 in c:\\users\\hp\\anaconda3\\lib\\site-packages (from tensorflow-intel==2.11.0->tensorflow) (2.11.0)\n",
      "Requirement already satisfied: absl-py>=1.0.0 in c:\\users\\hp\\anaconda3\\lib\\site-packages (from tensorflow-intel==2.11.0->tensorflow) (1.3.0)\n",
      "Requirement already satisfied: numpy>=1.20 in c:\\users\\hp\\anaconda3\\lib\\site-packages (from tensorflow-intel==2.11.0->tensorflow) (1.21.5)\n",
      "Requirement already satisfied: packaging in c:\\users\\hp\\anaconda3\\lib\\site-packages (from tensorflow-intel==2.11.0->tensorflow) (21.3)\n",
      "Requirement already satisfied: protobuf<3.20,>=3.9.2 in c:\\users\\hp\\anaconda3\\lib\\site-packages (from tensorflow-intel==2.11.0->tensorflow) (3.19.6)\n",
      "Requirement already satisfied: tensorflow-io-gcs-filesystem>=0.23.1 in c:\\users\\hp\\anaconda3\\lib\\site-packages (from tensorflow-intel==2.11.0->tensorflow) (0.29.0)\n",
      "Requirement already satisfied: libclang>=13.0.0 in c:\\users\\hp\\anaconda3\\lib\\site-packages (from tensorflow-intel==2.11.0->tensorflow) (14.0.6)\n",
      "Requirement already satisfied: six>=1.12.0 in c:\\users\\hp\\anaconda3\\lib\\site-packages (from tensorflow-intel==2.11.0->tensorflow) (1.16.0)\n",
      "Requirement already satisfied: opt-einsum>=2.3.2 in c:\\users\\hp\\anaconda3\\lib\\site-packages (from tensorflow-intel==2.11.0->tensorflow) (3.3.0)\n",
      "Requirement already satisfied: flatbuffers>=2.0 in c:\\users\\hp\\anaconda3\\lib\\site-packages (from tensorflow-intel==2.11.0->tensorflow) (22.12.6)\n",
      "Requirement already satisfied: termcolor>=1.1.0 in c:\\users\\hp\\anaconda3\\lib\\site-packages (from tensorflow-intel==2.11.0->tensorflow) (2.1.1)\n",
      "Requirement already satisfied: astunparse>=1.6.0 in c:\\users\\hp\\anaconda3\\lib\\site-packages (from tensorflow-intel==2.11.0->tensorflow) (1.6.3)\n",
      "Requirement already satisfied: tensorflow-estimator<2.12,>=2.11.0 in c:\\users\\hp\\anaconda3\\lib\\site-packages (from tensorflow-intel==2.11.0->tensorflow) (2.11.0)\n",
      "Requirement already satisfied: keras<2.12,>=2.11.0 in c:\\users\\hp\\anaconda3\\lib\\site-packages (from tensorflow-intel==2.11.0->tensorflow) (2.11.0)\n",
      "Requirement already satisfied: google-pasta>=0.1.1 in c:\\users\\hp\\anaconda3\\lib\\site-packages (from tensorflow-intel==2.11.0->tensorflow) (0.2.0)\n",
      "Requirement already satisfied: wrapt>=1.11.0 in c:\\users\\hp\\anaconda3\\lib\\site-packages (from tensorflow-intel==2.11.0->tensorflow) (1.14.1)\n",
      "Requirement already satisfied: grpcio<2.0,>=1.24.3 in c:\\users\\hp\\anaconda3\\lib\\site-packages (from tensorflow-intel==2.11.0->tensorflow) (1.51.1)\n",
      "Requirement already satisfied: wheel<1.0,>=0.23.0 in c:\\users\\hp\\anaconda3\\lib\\site-packages (from astunparse>=1.6.0->tensorflow-intel==2.11.0->tensorflow) (0.37.1)\n",
      "Requirement already satisfied: markdown>=2.6.8 in c:\\users\\hp\\anaconda3\\lib\\site-packages (from tensorboard<2.12,>=2.11->tensorflow-intel==2.11.0->tensorflow) (3.3.4)\n",
      "Requirement already satisfied: google-auth-oauthlib<0.5,>=0.4.1 in c:\\users\\hp\\anaconda3\\lib\\site-packages (from tensorboard<2.12,>=2.11->tensorflow-intel==2.11.0->tensorflow) (0.4.6)\n",
      "Requirement already satisfied: tensorboard-data-server<0.7.0,>=0.6.0 in c:\\users\\hp\\anaconda3\\lib\\site-packages (from tensorboard<2.12,>=2.11->tensorflow-intel==2.11.0->tensorflow) (0.6.1)\n",
      "Requirement already satisfied: requests<3,>=2.21.0 in c:\\users\\hp\\anaconda3\\lib\\site-packages (from tensorboard<2.12,>=2.11->tensorflow-intel==2.11.0->tensorflow) (2.28.1)\n",
      "Requirement already satisfied: werkzeug>=1.0.1 in c:\\users\\hp\\anaconda3\\lib\\site-packages (from tensorboard<2.12,>=2.11->tensorflow-intel==2.11.0->tensorflow) (2.0.3)\n",
      "Requirement already satisfied: tensorboard-plugin-wit>=1.6.0 in c:\\users\\hp\\anaconda3\\lib\\site-packages (from tensorboard<2.12,>=2.11->tensorflow-intel==2.11.0->tensorflow) (1.8.1)\n",
      "Requirement already satisfied: google-auth<3,>=1.6.3 in c:\\users\\hp\\anaconda3\\lib\\site-packages (from tensorboard<2.12,>=2.11->tensorflow-intel==2.11.0->tensorflow) (2.15.0)\n",
      "Requirement already satisfied: pyparsing!=3.0.5,>=2.0.2 in c:\\users\\hp\\anaconda3\\lib\\site-packages (from packaging->tensorflow-intel==2.11.0->tensorflow) (3.0.9)\n",
      "Requirement already satisfied: rsa<5,>=3.1.4 in c:\\users\\hp\\anaconda3\\lib\\site-packages (from google-auth<3,>=1.6.3->tensorboard<2.12,>=2.11->tensorflow-intel==2.11.0->tensorflow) (4.9)\n",
      "Requirement already satisfied: cachetools<6.0,>=2.0.0 in c:\\users\\hp\\anaconda3\\lib\\site-packages (from google-auth<3,>=1.6.3->tensorboard<2.12,>=2.11->tensorflow-intel==2.11.0->tensorflow) (5.2.0)\n",
      "Requirement already satisfied: pyasn1-modules>=0.2.1 in c:\\users\\hp\\anaconda3\\lib\\site-packages (from google-auth<3,>=1.6.3->tensorboard<2.12,>=2.11->tensorflow-intel==2.11.0->tensorflow) (0.2.8)\n",
      "Requirement already satisfied: requests-oauthlib>=0.7.0 in c:\\users\\hp\\anaconda3\\lib\\site-packages (from google-auth-oauthlib<0.5,>=0.4.1->tensorboard<2.12,>=2.11->tensorflow-intel==2.11.0->tensorflow) (1.3.1)\n",
      "Requirement already satisfied: urllib3<1.27,>=1.21.1 in c:\\users\\hp\\anaconda3\\lib\\site-packages (from requests<3,>=2.21.0->tensorboard<2.12,>=2.11->tensorflow-intel==2.11.0->tensorflow) (1.26.11)\n",
      "Requirement already satisfied: charset-normalizer<3,>=2 in c:\\users\\hp\\anaconda3\\lib\\site-packages (from requests<3,>=2.21.0->tensorboard<2.12,>=2.11->tensorflow-intel==2.11.0->tensorflow) (2.0.4)\n",
      "Requirement already satisfied: certifi>=2017.4.17 in c:\\users\\hp\\anaconda3\\lib\\site-packages (from requests<3,>=2.21.0->tensorboard<2.12,>=2.11->tensorflow-intel==2.11.0->tensorflow) (2022.9.14)\n",
      "Requirement already satisfied: idna<4,>=2.5 in c:\\users\\hp\\anaconda3\\lib\\site-packages (from requests<3,>=2.21.0->tensorboard<2.12,>=2.11->tensorflow-intel==2.11.0->tensorflow) (3.3)\n",
      "Requirement already satisfied: pyasn1<0.5.0,>=0.4.6 in c:\\users\\hp\\anaconda3\\lib\\site-packages (from pyasn1-modules>=0.2.1->google-auth<3,>=1.6.3->tensorboard<2.12,>=2.11->tensorflow-intel==2.11.0->tensorflow) (0.4.8)\n",
      "Requirement already satisfied: oauthlib>=3.0.0 in c:\\users\\hp\\anaconda3\\lib\\site-packages (from requests-oauthlib>=0.7.0->google-auth-oauthlib<0.5,>=0.4.1->tensorboard<2.12,>=2.11->tensorflow-intel==2.11.0->tensorflow) (3.2.2)\n"
     ]
    }
   ],
   "source": [
    "!pip install keras\n",
    "!pip install tensorflow"
   ]
  },
  {
   "cell_type": "code",
   "execution_count": 2,
   "id": "1c4c9491",
   "metadata": {},
   "outputs": [],
   "source": [
    "from keras.preprocessing.text import one_hot"
   ]
  },
  {
   "cell_type": "code",
   "execution_count": 3,
   "id": "5ed731aa",
   "metadata": {},
   "outputs": [],
   "source": [
    "from tensorflow.keras.preprocessing.text import one_hot"
   ]
  },
  {
   "cell_type": "code",
   "execution_count": 4,
   "id": "1eded480",
   "metadata": {},
   "outputs": [],
   "source": [
    "sent = ['the glass of milk',\n",
    "       'the glass of juice',\n",
    "       'the cup of tea',\n",
    "       'I am a good boy',\n",
    "       'I am a good developer',\n",
    "       'understand the meaning of words',\n",
    "       'your videos are good']"
   ]
  },
  {
   "cell_type": "code",
   "execution_count": 5,
   "id": "b816a0c0",
   "metadata": {},
   "outputs": [
    {
     "data": {
      "text/plain": [
       "['the glass of milk',\n",
       " 'the glass of juice',\n",
       " 'the cup of tea',\n",
       " 'I am a good boy',\n",
       " 'I am a good developer',\n",
       " 'understand the meaning of words',\n",
       " 'your videos are good']"
      ]
     },
     "execution_count": 5,
     "metadata": {},
     "output_type": "execute_result"
    }
   ],
   "source": [
    "sent"
   ]
  },
  {
   "cell_type": "code",
   "execution_count": 6,
   "id": "6b4c9404",
   "metadata": {},
   "outputs": [],
   "source": [
    "voc_size = 10000"
   ]
  },
  {
   "cell_type": "code",
   "execution_count": 7,
   "id": "3fb713b7",
   "metadata": {},
   "outputs": [
    {
     "name": "stdout",
     "output_type": "stream",
     "text": [
      "[[7672, 491, 8363, 5810], [7672, 491, 8363, 9203], [7672, 7203, 8363, 7489], [5330, 3832, 2595, 4778, 4821], [5330, 3832, 2595, 4778, 7325], [9060, 7672, 9047, 8363, 7252], [2650, 7733, 171, 4778]]\n"
     ]
    }
   ],
   "source": [
    "onehot_repr = [one_hot(words,voc_size)for words in sent]\n",
    "print(onehot_repr)"
   ]
  },
  {
   "cell_type": "code",
   "execution_count": 8,
   "id": "6982deb7",
   "metadata": {},
   "outputs": [],
   "source": [
    "from tensorflow.keras.layers import Embedding\n",
    "from tensorflow.keras.preprocessing.sequence import pad_sequences\n",
    "from tensorflow.keras.models import Sequential"
   ]
  },
  {
   "cell_type": "code",
   "execution_count": 9,
   "id": "33c70085",
   "metadata": {},
   "outputs": [],
   "source": [
    "import numpy as np"
   ]
  },
  {
   "cell_type": "code",
   "execution_count": 10,
   "id": "fe0e0726",
   "metadata": {},
   "outputs": [
    {
     "name": "stdout",
     "output_type": "stream",
     "text": [
      "[[   0    0    0    0 7672  491 8363 5810]\n",
      " [   0    0    0    0 7672  491 8363 9203]\n",
      " [   0    0    0    0 7672 7203 8363 7489]\n",
      " [   0    0    0 5330 3832 2595 4778 4821]\n",
      " [   0    0    0 5330 3832 2595 4778 7325]\n",
      " [   0    0    0 9060 7672 9047 8363 7252]\n",
      " [   0    0    0    0 2650 7733  171 4778]]\n"
     ]
    }
   ],
   "source": [
    "sent_length = 8\n",
    "embedded_docs=pad_sequences(onehot_repr, padding='pre',maxlen=sent_length)\n",
    "print(embedded_docs)"
   ]
  },
  {
   "cell_type": "code",
   "execution_count": 11,
   "id": "0c30c20b",
   "metadata": {},
   "outputs": [],
   "source": [
    "dim=15"
   ]
  },
  {
   "cell_type": "code",
   "execution_count": 13,
   "id": "53db7991",
   "metadata": {},
   "outputs": [],
   "source": [
    "model = Sequential()\n",
    "model.add(Embedding(voc_size,10,input_length=sent_length))\n",
    "model.compile('adam','mse')"
   ]
  },
  {
   "cell_type": "code",
   "execution_count": 14,
   "id": "259d62d6",
   "metadata": {},
   "outputs": [
    {
     "name": "stdout",
     "output_type": "stream",
     "text": [
      "Model: \"sequential_1\"\n",
      "_________________________________________________________________\n",
      " Layer (type)                Output Shape              Param #   \n",
      "=================================================================\n",
      " embedding_1 (Embedding)     (None, 8, 10)             100000    \n",
      "                                                                 \n",
      "=================================================================\n",
      "Total params: 100,000\n",
      "Trainable params: 100,000\n",
      "Non-trainable params: 0\n",
      "_________________________________________________________________\n"
     ]
    }
   ],
   "source": [
    "model.summary()"
   ]
  },
  {
   "cell_type": "code",
   "execution_count": 15,
   "id": "816fe378",
   "metadata": {},
   "outputs": [
    {
     "name": "stdout",
     "output_type": "stream",
     "text": [
      "1/1 [==============================] - 0s 247ms/step\n",
      "[[[ 0.04077883  0.01408913 -0.04677936 -0.01348461  0.02534136\n",
      "   -0.01686442 -0.02861983 -0.02847029  0.03190492 -0.02088224]\n",
      "  [ 0.04077883  0.01408913 -0.04677936 -0.01348461  0.02534136\n",
      "   -0.01686442 -0.02861983 -0.02847029  0.03190492 -0.02088224]\n",
      "  [ 0.04077883  0.01408913 -0.04677936 -0.01348461  0.02534136\n",
      "   -0.01686442 -0.02861983 -0.02847029  0.03190492 -0.02088224]\n",
      "  [ 0.04077883  0.01408913 -0.04677936 -0.01348461  0.02534136\n",
      "   -0.01686442 -0.02861983 -0.02847029  0.03190492 -0.02088224]\n",
      "  [-0.01450384 -0.02541353  0.02154842  0.01299885 -0.04947983\n",
      "   -0.005643   -0.04388188  0.00507392  0.04995406  0.0139051 ]\n",
      "  [-0.00365872 -0.02921039 -0.00290938 -0.02185669  0.02325485\n",
      "   -0.00534706  0.00919044 -0.02450383  0.04804869  0.01868847]\n",
      "  [ 0.02236381 -0.03391476 -0.00329477 -0.03200632  0.04548277\n",
      "    0.0329068   0.02182368  0.03897847 -0.01593666  0.03910604]\n",
      "  [-0.025844    0.01843008 -0.00563226  0.02939209 -0.02082419\n",
      "   -0.00900863 -0.03035816 -0.0336418   0.04582858  0.04465413]]\n",
      "\n",
      " [[ 0.04077883  0.01408913 -0.04677936 -0.01348461  0.02534136\n",
      "   -0.01686442 -0.02861983 -0.02847029  0.03190492 -0.02088224]\n",
      "  [ 0.04077883  0.01408913 -0.04677936 -0.01348461  0.02534136\n",
      "   -0.01686442 -0.02861983 -0.02847029  0.03190492 -0.02088224]\n",
      "  [ 0.04077883  0.01408913 -0.04677936 -0.01348461  0.02534136\n",
      "   -0.01686442 -0.02861983 -0.02847029  0.03190492 -0.02088224]\n",
      "  [ 0.04077883  0.01408913 -0.04677936 -0.01348461  0.02534136\n",
      "   -0.01686442 -0.02861983 -0.02847029  0.03190492 -0.02088224]\n",
      "  [-0.01450384 -0.02541353  0.02154842  0.01299885 -0.04947983\n",
      "   -0.005643   -0.04388188  0.00507392  0.04995406  0.0139051 ]\n",
      "  [-0.00365872 -0.02921039 -0.00290938 -0.02185669  0.02325485\n",
      "   -0.00534706  0.00919044 -0.02450383  0.04804869  0.01868847]\n",
      "  [ 0.02236381 -0.03391476 -0.00329477 -0.03200632  0.04548277\n",
      "    0.0329068   0.02182368  0.03897847 -0.01593666  0.03910604]\n",
      "  [ 0.00037573 -0.00214966 -0.01522915 -0.03187828 -0.04323241\n",
      "    0.01204117 -0.02189928 -0.04649881  0.02849327  0.03295447]]\n",
      "\n",
      " [[ 0.04077883  0.01408913 -0.04677936 -0.01348461  0.02534136\n",
      "   -0.01686442 -0.02861983 -0.02847029  0.03190492 -0.02088224]\n",
      "  [ 0.04077883  0.01408913 -0.04677936 -0.01348461  0.02534136\n",
      "   -0.01686442 -0.02861983 -0.02847029  0.03190492 -0.02088224]\n",
      "  [ 0.04077883  0.01408913 -0.04677936 -0.01348461  0.02534136\n",
      "   -0.01686442 -0.02861983 -0.02847029  0.03190492 -0.02088224]\n",
      "  [ 0.04077883  0.01408913 -0.04677936 -0.01348461  0.02534136\n",
      "   -0.01686442 -0.02861983 -0.02847029  0.03190492 -0.02088224]\n",
      "  [-0.01450384 -0.02541353  0.02154842  0.01299885 -0.04947983\n",
      "   -0.005643   -0.04388188  0.00507392  0.04995406  0.0139051 ]\n",
      "  [ 0.00110288  0.01231463  0.03937619  0.03294892 -0.00622877\n",
      "   -0.04496944  0.01556842  0.00611863  0.00276951  0.0399106 ]\n",
      "  [ 0.02236381 -0.03391476 -0.00329477 -0.03200632  0.04548277\n",
      "    0.0329068   0.02182368  0.03897847 -0.01593666  0.03910604]\n",
      "  [-0.00367991  0.03661546 -0.01190354  0.03396324 -0.01418042\n",
      "   -0.02891691 -0.041554   -0.01402231 -0.03271528 -0.01595256]]\n",
      "\n",
      " [[ 0.04077883  0.01408913 -0.04677936 -0.01348461  0.02534136\n",
      "   -0.01686442 -0.02861983 -0.02847029  0.03190492 -0.02088224]\n",
      "  [ 0.04077883  0.01408913 -0.04677936 -0.01348461  0.02534136\n",
      "   -0.01686442 -0.02861983 -0.02847029  0.03190492 -0.02088224]\n",
      "  [ 0.04077883  0.01408913 -0.04677936 -0.01348461  0.02534136\n",
      "   -0.01686442 -0.02861983 -0.02847029  0.03190492 -0.02088224]\n",
      "  [-0.0338035  -0.033823    0.04115171 -0.04108262  0.00264544\n",
      "   -0.00826336  0.02423095 -0.00189518 -0.00550467 -0.0314665 ]\n",
      "  [ 0.01741933 -0.0359725  -0.02758082  0.02536822  0.00244914\n",
      "   -0.01107911 -0.00265727  0.03024291  0.00296136 -0.0373086 ]\n",
      "  [-0.00788255  0.02024373 -0.02890697 -0.00427542  0.02364153\n",
      "    0.02867675  0.0377332   0.01688074 -0.00057774  0.03505168]\n",
      "  [-0.02174212 -0.04886234  0.0231366  -0.04127299 -0.03447785\n",
      "    0.03511372 -0.04242394 -0.00031795  0.04165453 -0.04768872]\n",
      "  [ 0.04470101  0.012331    0.01456543  0.0397082   0.00091527\n",
      "    0.03432912  0.03384689 -0.02967906  0.00740902 -0.01277268]]\n",
      "\n",
      " [[ 0.04077883  0.01408913 -0.04677936 -0.01348461  0.02534136\n",
      "   -0.01686442 -0.02861983 -0.02847029  0.03190492 -0.02088224]\n",
      "  [ 0.04077883  0.01408913 -0.04677936 -0.01348461  0.02534136\n",
      "   -0.01686442 -0.02861983 -0.02847029  0.03190492 -0.02088224]\n",
      "  [ 0.04077883  0.01408913 -0.04677936 -0.01348461  0.02534136\n",
      "   -0.01686442 -0.02861983 -0.02847029  0.03190492 -0.02088224]\n",
      "  [-0.0338035  -0.033823    0.04115171 -0.04108262  0.00264544\n",
      "   -0.00826336  0.02423095 -0.00189518 -0.00550467 -0.0314665 ]\n",
      "  [ 0.01741933 -0.0359725  -0.02758082  0.02536822  0.00244914\n",
      "   -0.01107911 -0.00265727  0.03024291  0.00296136 -0.0373086 ]\n",
      "  [-0.00788255  0.02024373 -0.02890697 -0.00427542  0.02364153\n",
      "    0.02867675  0.0377332   0.01688074 -0.00057774  0.03505168]\n",
      "  [-0.02174212 -0.04886234  0.0231366  -0.04127299 -0.03447785\n",
      "    0.03511372 -0.04242394 -0.00031795  0.04165453 -0.04768872]\n",
      "  [ 0.0155681  -0.02758157 -0.02015957  0.02168814 -0.03329392\n",
      "    0.03720126  0.00268421  0.00589466  0.0249729   0.02962489]]\n",
      "\n",
      " [[ 0.04077883  0.01408913 -0.04677936 -0.01348461  0.02534136\n",
      "   -0.01686442 -0.02861983 -0.02847029  0.03190492 -0.02088224]\n",
      "  [ 0.04077883  0.01408913 -0.04677936 -0.01348461  0.02534136\n",
      "   -0.01686442 -0.02861983 -0.02847029  0.03190492 -0.02088224]\n",
      "  [ 0.04077883  0.01408913 -0.04677936 -0.01348461  0.02534136\n",
      "   -0.01686442 -0.02861983 -0.02847029  0.03190492 -0.02088224]\n",
      "  [-0.00583693  0.01283263  0.00752593 -0.04389985 -0.04583114\n",
      "    0.00383634 -0.03935267  0.00439602  0.00134791 -0.03305386]\n",
      "  [-0.01450384 -0.02541353  0.02154842  0.01299885 -0.04947983\n",
      "   -0.005643   -0.04388188  0.00507392  0.04995406  0.0139051 ]\n",
      "  [ 0.00148166 -0.01528176  0.01414493  0.01588697  0.04024727\n",
      "    0.0306414  -0.02123502 -0.03831758  0.04115821 -0.00753681]\n",
      "  [ 0.02236381 -0.03391476 -0.00329477 -0.03200632  0.04548277\n",
      "    0.0329068   0.02182368  0.03897847 -0.01593666  0.03910604]\n",
      "  [ 0.04836173  0.00511729  0.00934721 -0.01666027 -0.03223323\n",
      "   -0.04993787  0.02419816 -0.04527114  0.03891753 -0.01197729]]\n",
      "\n",
      " [[ 0.04077883  0.01408913 -0.04677936 -0.01348461  0.02534136\n",
      "   -0.01686442 -0.02861983 -0.02847029  0.03190492 -0.02088224]\n",
      "  [ 0.04077883  0.01408913 -0.04677936 -0.01348461  0.02534136\n",
      "   -0.01686442 -0.02861983 -0.02847029  0.03190492 -0.02088224]\n",
      "  [ 0.04077883  0.01408913 -0.04677936 -0.01348461  0.02534136\n",
      "   -0.01686442 -0.02861983 -0.02847029  0.03190492 -0.02088224]\n",
      "  [ 0.04077883  0.01408913 -0.04677936 -0.01348461  0.02534136\n",
      "   -0.01686442 -0.02861983 -0.02847029  0.03190492 -0.02088224]\n",
      "  [ 0.01762963 -0.00751345 -0.0249982   0.00043731  0.02062253\n",
      "   -0.04256376  0.01165124 -0.01386749  0.00532518 -0.02094564]\n",
      "  [-0.00347347  0.03598143  0.044401    0.02613131  0.00358641\n",
      "   -0.04646809  0.0450429  -0.00472619 -0.03759763  0.00181425]\n",
      "  [-0.01147013 -0.02845373  0.04038702 -0.03258109  0.00771495\n",
      "   -0.03521627 -0.04738557 -0.00973905 -0.01442044  0.045739  ]\n",
      "  [-0.02174212 -0.04886234  0.0231366  -0.04127299 -0.03447785\n",
      "    0.03511372 -0.04242394 -0.00031795  0.04165453 -0.04768872]]]\n"
     ]
    }
   ],
   "source": [
    "print(model.predict(embedded_docs))"
   ]
  },
  {
   "cell_type": "code",
   "execution_count": 16,
   "id": "59ee536b",
   "metadata": {},
   "outputs": [
    {
     "data": {
      "text/plain": [
       "array([   0,    0,    0,    0, 7672,  491, 8363, 5810])"
      ]
     },
     "execution_count": 16,
     "metadata": {},
     "output_type": "execute_result"
    }
   ],
   "source": [
    "embedded_docs[0]"
   ]
  },
  {
   "cell_type": "code",
   "execution_count": null,
   "id": "dfdf5cf6",
   "metadata": {},
   "outputs": [],
   "source": []
  }
 ],
 "metadata": {
  "kernelspec": {
   "display_name": "Python 3 (ipykernel)",
   "language": "python",
   "name": "python3"
  },
  "language_info": {
   "codemirror_mode": {
    "name": "ipython",
    "version": 3
   },
   "file_extension": ".py",
   "mimetype": "text/x-python",
   "name": "python",
   "nbconvert_exporter": "python",
   "pygments_lexer": "ipython3",
   "version": "3.9.13"
  }
 },
 "nbformat": 4,
 "nbformat_minor": 5
}
