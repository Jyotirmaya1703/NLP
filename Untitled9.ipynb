{
 "cells": [
  {
   "cell_type": "code",
   "execution_count": 5,
   "id": "c587799c",
   "metadata": {},
   "outputs": [
    {
     "name": "stdout",
     "output_type": "stream",
     "text": [
      "Collecting pandas_datareader\n",
      "  Downloading pandas_datareader-0.10.0-py3-none-any.whl (109 kB)\n",
      "     -------------------------------------- 109.5/109.5 kB 1.1 MB/s eta 0:00:00\n",
      "Requirement already satisfied: lxml in c:\\users\\hp\\anaconda3\\lib\\site-packages (from pandas_datareader) (4.9.1)\n",
      "Requirement already satisfied: pandas>=0.23 in c:\\users\\hp\\anaconda3\\lib\\site-packages (from pandas_datareader) (1.4.4)\n",
      "Requirement already satisfied: requests>=2.19.0 in c:\\users\\hp\\anaconda3\\lib\\site-packages (from pandas_datareader) (2.28.1)\n",
      "Requirement already satisfied: python-dateutil>=2.8.1 in c:\\users\\hp\\anaconda3\\lib\\site-packages (from pandas>=0.23->pandas_datareader) (2.8.2)\n",
      "Requirement already satisfied: numpy>=1.18.5 in c:\\users\\hp\\anaconda3\\lib\\site-packages (from pandas>=0.23->pandas_datareader) (1.21.5)\n",
      "Requirement already satisfied: pytz>=2020.1 in c:\\users\\hp\\anaconda3\\lib\\site-packages (from pandas>=0.23->pandas_datareader) (2022.1)\n",
      "Requirement already satisfied: certifi>=2017.4.17 in c:\\users\\hp\\anaconda3\\lib\\site-packages (from requests>=2.19.0->pandas_datareader) (2022.9.14)\n",
      "Requirement already satisfied: urllib3<1.27,>=1.21.1 in c:\\users\\hp\\anaconda3\\lib\\site-packages (from requests>=2.19.0->pandas_datareader) (1.26.11)\n",
      "Requirement already satisfied: idna<4,>=2.5 in c:\\users\\hp\\anaconda3\\lib\\site-packages (from requests>=2.19.0->pandas_datareader) (3.3)\n",
      "Requirement already satisfied: charset-normalizer<3,>=2 in c:\\users\\hp\\anaconda3\\lib\\site-packages (from requests>=2.19.0->pandas_datareader) (2.0.4)\n",
      "Requirement already satisfied: six>=1.5 in c:\\users\\hp\\anaconda3\\lib\\site-packages (from python-dateutil>=2.8.1->pandas>=0.23->pandas_datareader) (1.16.0)\n",
      "Installing collected packages: pandas_datareader\n",
      "Successfully installed pandas_datareader-0.10.0\n"
     ]
    }
   ],
   "source": [
    "!pip install pandas_datareader\n",
    "import pandas\n",
    "import pandas_datareader as pdr"
   ]
  },
  {
   "cell_type": "code",
   "execution_count": 8,
   "id": "a0fc9036",
   "metadata": {},
   "outputs": [
    {
     "name": "stderr",
     "output_type": "stream",
     "text": [
      "C:\\Users\\Hp\\anaconda3\\lib\\site-packages\\pandas_datareader\\tiingo.py:234: FutureWarning: In a future version of pandas all arguments of concat except for the argument 'objs' will be keyword-only.\n",
      "  return pd.concat(dfs, self._concat_axis)\n"
     ]
    }
   ],
   "source": [
    "df = pdr.get_data_tiingo('AAPL', api_key='7af715f1f30f3d0daecda04c656cdfd44fd2a161')"
   ]
  },
  {
   "cell_type": "code",
   "execution_count": 9,
   "id": "90b69be0",
   "metadata": {},
   "outputs": [
    {
     "data": {
      "text/html": [
       "<div>\n",
       "<style scoped>\n",
       "    .dataframe tbody tr th:only-of-type {\n",
       "        vertical-align: middle;\n",
       "    }\n",
       "\n",
       "    .dataframe tbody tr th {\n",
       "        vertical-align: top;\n",
       "    }\n",
       "\n",
       "    .dataframe thead th {\n",
       "        text-align: right;\n",
       "    }\n",
       "</style>\n",
       "<table border=\"1\" class=\"dataframe\">\n",
       "  <thead>\n",
       "    <tr style=\"text-align: right;\">\n",
       "      <th></th>\n",
       "      <th></th>\n",
       "      <th>close</th>\n",
       "      <th>high</th>\n",
       "      <th>low</th>\n",
       "      <th>open</th>\n",
       "      <th>volume</th>\n",
       "      <th>adjClose</th>\n",
       "      <th>adjHigh</th>\n",
       "      <th>adjLow</th>\n",
       "      <th>adjOpen</th>\n",
       "      <th>adjVolume</th>\n",
       "      <th>divCash</th>\n",
       "      <th>splitFactor</th>\n",
       "    </tr>\n",
       "    <tr>\n",
       "      <th>symbol</th>\n",
       "      <th>date</th>\n",
       "      <th></th>\n",
       "      <th></th>\n",
       "      <th></th>\n",
       "      <th></th>\n",
       "      <th></th>\n",
       "      <th></th>\n",
       "      <th></th>\n",
       "      <th></th>\n",
       "      <th></th>\n",
       "      <th></th>\n",
       "      <th></th>\n",
       "      <th></th>\n",
       "    </tr>\n",
       "  </thead>\n",
       "  <tbody>\n",
       "    <tr>\n",
       "      <th rowspan=\"11\" valign=\"top\">AAPL</th>\n",
       "      <th>2018-01-04 00:00:00+00:00</th>\n",
       "      <td>173.03</td>\n",
       "      <td>173.4700</td>\n",
       "      <td>172.08</td>\n",
       "      <td>172.54</td>\n",
       "      <td>22211345</td>\n",
       "      <td>41.079714</td>\n",
       "      <td>41.184176</td>\n",
       "      <td>40.854171</td>\n",
       "      <td>40.963381</td>\n",
       "      <td>88845380</td>\n",
       "      <td>0.0000</td>\n",
       "      <td>1.0</td>\n",
       "    </tr>\n",
       "    <tr>\n",
       "      <th>2018-01-05 00:00:00+00:00</th>\n",
       "      <td>175.00</td>\n",
       "      <td>175.3700</td>\n",
       "      <td>173.05</td>\n",
       "      <td>173.44</td>\n",
       "      <td>23016177</td>\n",
       "      <td>41.547419</td>\n",
       "      <td>41.635262</td>\n",
       "      <td>41.084462</td>\n",
       "      <td>41.177054</td>\n",
       "      <td>92064708</td>\n",
       "      <td>0.0000</td>\n",
       "      <td>1.0</td>\n",
       "    </tr>\n",
       "    <tr>\n",
       "      <th>2018-01-08 00:00:00+00:00</th>\n",
       "      <td>174.35</td>\n",
       "      <td>175.6100</td>\n",
       "      <td>173.93</td>\n",
       "      <td>174.35</td>\n",
       "      <td>20134092</td>\n",
       "      <td>41.393100</td>\n",
       "      <td>41.692242</td>\n",
       "      <td>41.293386</td>\n",
       "      <td>41.393100</td>\n",
       "      <td>80536368</td>\n",
       "      <td>0.0000</td>\n",
       "      <td>1.0</td>\n",
       "    </tr>\n",
       "    <tr>\n",
       "      <th>2018-01-09 00:00:00+00:00</th>\n",
       "      <td>174.33</td>\n",
       "      <td>175.0600</td>\n",
       "      <td>173.41</td>\n",
       "      <td>174.55</td>\n",
       "      <td>21262614</td>\n",
       "      <td>41.388352</td>\n",
       "      <td>41.561664</td>\n",
       "      <td>41.169931</td>\n",
       "      <td>41.440583</td>\n",
       "      <td>85050456</td>\n",
       "      <td>0.0000</td>\n",
       "      <td>1.0</td>\n",
       "    </tr>\n",
       "    <tr>\n",
       "      <th>2018-01-10 00:00:00+00:00</th>\n",
       "      <td>174.29</td>\n",
       "      <td>174.3000</td>\n",
       "      <td>173.00</td>\n",
       "      <td>173.16</td>\n",
       "      <td>23589129</td>\n",
       "      <td>41.378855</td>\n",
       "      <td>41.381229</td>\n",
       "      <td>41.072591</td>\n",
       "      <td>41.110578</td>\n",
       "      <td>94356516</td>\n",
       "      <td>0.0000</td>\n",
       "      <td>1.0</td>\n",
       "    </tr>\n",
       "    <tr>\n",
       "      <th>...</th>\n",
       "      <td>...</td>\n",
       "      <td>...</td>\n",
       "      <td>...</td>\n",
       "      <td>...</td>\n",
       "      <td>...</td>\n",
       "      <td>...</td>\n",
       "      <td>...</td>\n",
       "      <td>...</td>\n",
       "      <td>...</td>\n",
       "      <td>...</td>\n",
       "      <td>...</td>\n",
       "      <td>...</td>\n",
       "    </tr>\n",
       "    <tr>\n",
       "      <th>2022-12-23 00:00:00+00:00</th>\n",
       "      <td>131.86</td>\n",
       "      <td>132.4150</td>\n",
       "      <td>129.64</td>\n",
       "      <td>130.92</td>\n",
       "      <td>63814893</td>\n",
       "      <td>131.860000</td>\n",
       "      <td>132.415000</td>\n",
       "      <td>129.640000</td>\n",
       "      <td>130.920000</td>\n",
       "      <td>63814893</td>\n",
       "      <td>0.1667</td>\n",
       "      <td>1.0</td>\n",
       "    </tr>\n",
       "    <tr>\n",
       "      <th>2022-12-27 00:00:00+00:00</th>\n",
       "      <td>130.03</td>\n",
       "      <td>131.4100</td>\n",
       "      <td>128.72</td>\n",
       "      <td>131.38</td>\n",
       "      <td>69007830</td>\n",
       "      <td>130.030000</td>\n",
       "      <td>131.410000</td>\n",
       "      <td>128.720000</td>\n",
       "      <td>131.380000</td>\n",
       "      <td>69007830</td>\n",
       "      <td>0.0000</td>\n",
       "      <td>1.0</td>\n",
       "    </tr>\n",
       "    <tr>\n",
       "      <th>2022-12-28 00:00:00+00:00</th>\n",
       "      <td>126.04</td>\n",
       "      <td>131.0275</td>\n",
       "      <td>125.87</td>\n",
       "      <td>129.67</td>\n",
       "      <td>85438391</td>\n",
       "      <td>126.040000</td>\n",
       "      <td>131.027500</td>\n",
       "      <td>125.870000</td>\n",
       "      <td>129.670000</td>\n",
       "      <td>85438391</td>\n",
       "      <td>0.0000</td>\n",
       "      <td>1.0</td>\n",
       "    </tr>\n",
       "    <tr>\n",
       "      <th>2022-12-29 00:00:00+00:00</th>\n",
       "      <td>129.61</td>\n",
       "      <td>130.4814</td>\n",
       "      <td>127.73</td>\n",
       "      <td>127.99</td>\n",
       "      <td>75703710</td>\n",
       "      <td>129.610000</td>\n",
       "      <td>130.481400</td>\n",
       "      <td>127.730000</td>\n",
       "      <td>127.990000</td>\n",
       "      <td>75703710</td>\n",
       "      <td>0.0000</td>\n",
       "      <td>1.0</td>\n",
       "    </tr>\n",
       "    <tr>\n",
       "      <th>2022-12-30 00:00:00+00:00</th>\n",
       "      <td>129.93</td>\n",
       "      <td>129.9500</td>\n",
       "      <td>127.43</td>\n",
       "      <td>128.41</td>\n",
       "      <td>77034209</td>\n",
       "      <td>129.930000</td>\n",
       "      <td>129.950000</td>\n",
       "      <td>127.430000</td>\n",
       "      <td>128.410000</td>\n",
       "      <td>77034209</td>\n",
       "      <td>0.0000</td>\n",
       "      <td>1.0</td>\n",
       "    </tr>\n",
       "  </tbody>\n",
       "</table>\n",
       "<p>1257 rows × 12 columns</p>\n",
       "</div>"
      ],
      "text/plain": [
       "                                   close      high     low    open    volume  \\\n",
       "symbol date                                                                    \n",
       "AAPL   2018-01-04 00:00:00+00:00  173.03  173.4700  172.08  172.54  22211345   \n",
       "       2018-01-05 00:00:00+00:00  175.00  175.3700  173.05  173.44  23016177   \n",
       "       2018-01-08 00:00:00+00:00  174.35  175.6100  173.93  174.35  20134092   \n",
       "       2018-01-09 00:00:00+00:00  174.33  175.0600  173.41  174.55  21262614   \n",
       "       2018-01-10 00:00:00+00:00  174.29  174.3000  173.00  173.16  23589129   \n",
       "...                                  ...       ...     ...     ...       ...   \n",
       "       2022-12-23 00:00:00+00:00  131.86  132.4150  129.64  130.92  63814893   \n",
       "       2022-12-27 00:00:00+00:00  130.03  131.4100  128.72  131.38  69007830   \n",
       "       2022-12-28 00:00:00+00:00  126.04  131.0275  125.87  129.67  85438391   \n",
       "       2022-12-29 00:00:00+00:00  129.61  130.4814  127.73  127.99  75703710   \n",
       "       2022-12-30 00:00:00+00:00  129.93  129.9500  127.43  128.41  77034209   \n",
       "\n",
       "                                    adjClose     adjHigh      adjLow  \\\n",
       "symbol date                                                            \n",
       "AAPL   2018-01-04 00:00:00+00:00   41.079714   41.184176   40.854171   \n",
       "       2018-01-05 00:00:00+00:00   41.547419   41.635262   41.084462   \n",
       "       2018-01-08 00:00:00+00:00   41.393100   41.692242   41.293386   \n",
       "       2018-01-09 00:00:00+00:00   41.388352   41.561664   41.169931   \n",
       "       2018-01-10 00:00:00+00:00   41.378855   41.381229   41.072591   \n",
       "...                                      ...         ...         ...   \n",
       "       2022-12-23 00:00:00+00:00  131.860000  132.415000  129.640000   \n",
       "       2022-12-27 00:00:00+00:00  130.030000  131.410000  128.720000   \n",
       "       2022-12-28 00:00:00+00:00  126.040000  131.027500  125.870000   \n",
       "       2022-12-29 00:00:00+00:00  129.610000  130.481400  127.730000   \n",
       "       2022-12-30 00:00:00+00:00  129.930000  129.950000  127.430000   \n",
       "\n",
       "                                     adjOpen  adjVolume  divCash  splitFactor  \n",
       "symbol date                                                                    \n",
       "AAPL   2018-01-04 00:00:00+00:00   40.963381   88845380   0.0000          1.0  \n",
       "       2018-01-05 00:00:00+00:00   41.177054   92064708   0.0000          1.0  \n",
       "       2018-01-08 00:00:00+00:00   41.393100   80536368   0.0000          1.0  \n",
       "       2018-01-09 00:00:00+00:00   41.440583   85050456   0.0000          1.0  \n",
       "       2018-01-10 00:00:00+00:00   41.110578   94356516   0.0000          1.0  \n",
       "...                                      ...        ...      ...          ...  \n",
       "       2022-12-23 00:00:00+00:00  130.920000   63814893   0.1667          1.0  \n",
       "       2022-12-27 00:00:00+00:00  131.380000   69007830   0.0000          1.0  \n",
       "       2022-12-28 00:00:00+00:00  129.670000   85438391   0.0000          1.0  \n",
       "       2022-12-29 00:00:00+00:00  127.990000   75703710   0.0000          1.0  \n",
       "       2022-12-30 00:00:00+00:00  128.410000   77034209   0.0000          1.0  \n",
       "\n",
       "[1257 rows x 12 columns]"
      ]
     },
     "execution_count": 9,
     "metadata": {},
     "output_type": "execute_result"
    }
   ],
   "source": [
    "df"
   ]
  },
  {
   "cell_type": "code",
   "execution_count": 10,
   "id": "e675054e",
   "metadata": {},
   "outputs": [],
   "source": [
    "df.to_csv('AAPL.csv')"
   ]
  },
  {
   "cell_type": "code",
   "execution_count": 11,
   "id": "918428fa",
   "metadata": {},
   "outputs": [],
   "source": [
    "import pandas as pd"
   ]
  },
  {
   "cell_type": "code",
   "execution_count": 12,
   "id": "1f1f9eff",
   "metadata": {},
   "outputs": [],
   "source": [
    "df = pd.read_csv('AAPL.csv')"
   ]
  },
  {
   "cell_type": "code",
   "execution_count": 16,
   "id": "ddceacc6",
   "metadata": {},
   "outputs": [],
   "source": [
    "df1=df.reset_index()['close']"
   ]
  },
  {
   "cell_type": "code",
   "execution_count": 17,
   "id": "44385ea0",
   "metadata": {},
   "outputs": [
    {
     "data": {
      "text/html": [
       "<div>\n",
       "<style scoped>\n",
       "    .dataframe tbody tr th:only-of-type {\n",
       "        vertical-align: middle;\n",
       "    }\n",
       "\n",
       "    .dataframe tbody tr th {\n",
       "        vertical-align: top;\n",
       "    }\n",
       "\n",
       "    .dataframe thead th {\n",
       "        text-align: right;\n",
       "    }\n",
       "</style>\n",
       "<table border=\"1\" class=\"dataframe\">\n",
       "  <thead>\n",
       "    <tr style=\"text-align: right;\">\n",
       "      <th></th>\n",
       "      <th>symbol</th>\n",
       "      <th>date</th>\n",
       "      <th>close</th>\n",
       "      <th>high</th>\n",
       "      <th>low</th>\n",
       "      <th>open</th>\n",
       "      <th>volume</th>\n",
       "      <th>adjClose</th>\n",
       "      <th>adjHigh</th>\n",
       "      <th>adjLow</th>\n",
       "      <th>adjOpen</th>\n",
       "      <th>adjVolume</th>\n",
       "      <th>divCash</th>\n",
       "      <th>splitFactor</th>\n",
       "    </tr>\n",
       "  </thead>\n",
       "  <tbody>\n",
       "    <tr>\n",
       "      <th>0</th>\n",
       "      <td>AAPL</td>\n",
       "      <td>2018-01-04 00:00:00+00:00</td>\n",
       "      <td>173.03</td>\n",
       "      <td>173.47</td>\n",
       "      <td>172.08</td>\n",
       "      <td>172.54</td>\n",
       "      <td>22211345</td>\n",
       "      <td>41.079714</td>\n",
       "      <td>41.184176</td>\n",
       "      <td>40.854171</td>\n",
       "      <td>40.963381</td>\n",
       "      <td>88845380</td>\n",
       "      <td>0.0</td>\n",
       "      <td>1.0</td>\n",
       "    </tr>\n",
       "    <tr>\n",
       "      <th>1</th>\n",
       "      <td>AAPL</td>\n",
       "      <td>2018-01-05 00:00:00+00:00</td>\n",
       "      <td>175.00</td>\n",
       "      <td>175.37</td>\n",
       "      <td>173.05</td>\n",
       "      <td>173.44</td>\n",
       "      <td>23016177</td>\n",
       "      <td>41.547419</td>\n",
       "      <td>41.635262</td>\n",
       "      <td>41.084462</td>\n",
       "      <td>41.177054</td>\n",
       "      <td>92064708</td>\n",
       "      <td>0.0</td>\n",
       "      <td>1.0</td>\n",
       "    </tr>\n",
       "    <tr>\n",
       "      <th>2</th>\n",
       "      <td>AAPL</td>\n",
       "      <td>2018-01-08 00:00:00+00:00</td>\n",
       "      <td>174.35</td>\n",
       "      <td>175.61</td>\n",
       "      <td>173.93</td>\n",
       "      <td>174.35</td>\n",
       "      <td>20134092</td>\n",
       "      <td>41.393100</td>\n",
       "      <td>41.692242</td>\n",
       "      <td>41.293386</td>\n",
       "      <td>41.393100</td>\n",
       "      <td>80536368</td>\n",
       "      <td>0.0</td>\n",
       "      <td>1.0</td>\n",
       "    </tr>\n",
       "    <tr>\n",
       "      <th>3</th>\n",
       "      <td>AAPL</td>\n",
       "      <td>2018-01-09 00:00:00+00:00</td>\n",
       "      <td>174.33</td>\n",
       "      <td>175.06</td>\n",
       "      <td>173.41</td>\n",
       "      <td>174.55</td>\n",
       "      <td>21262614</td>\n",
       "      <td>41.388352</td>\n",
       "      <td>41.561664</td>\n",
       "      <td>41.169931</td>\n",
       "      <td>41.440583</td>\n",
       "      <td>85050456</td>\n",
       "      <td>0.0</td>\n",
       "      <td>1.0</td>\n",
       "    </tr>\n",
       "    <tr>\n",
       "      <th>4</th>\n",
       "      <td>AAPL</td>\n",
       "      <td>2018-01-10 00:00:00+00:00</td>\n",
       "      <td>174.29</td>\n",
       "      <td>174.30</td>\n",
       "      <td>173.00</td>\n",
       "      <td>173.16</td>\n",
       "      <td>23589129</td>\n",
       "      <td>41.378855</td>\n",
       "      <td>41.381229</td>\n",
       "      <td>41.072591</td>\n",
       "      <td>41.110578</td>\n",
       "      <td>94356516</td>\n",
       "      <td>0.0</td>\n",
       "      <td>1.0</td>\n",
       "    </tr>\n",
       "  </tbody>\n",
       "</table>\n",
       "</div>"
      ],
      "text/plain": [
       "  symbol                       date   close    high     low    open    volume  \\\n",
       "0   AAPL  2018-01-04 00:00:00+00:00  173.03  173.47  172.08  172.54  22211345   \n",
       "1   AAPL  2018-01-05 00:00:00+00:00  175.00  175.37  173.05  173.44  23016177   \n",
       "2   AAPL  2018-01-08 00:00:00+00:00  174.35  175.61  173.93  174.35  20134092   \n",
       "3   AAPL  2018-01-09 00:00:00+00:00  174.33  175.06  173.41  174.55  21262614   \n",
       "4   AAPL  2018-01-10 00:00:00+00:00  174.29  174.30  173.00  173.16  23589129   \n",
       "\n",
       "    adjClose    adjHigh     adjLow    adjOpen  adjVolume  divCash  splitFactor  \n",
       "0  41.079714  41.184176  40.854171  40.963381   88845380      0.0          1.0  \n",
       "1  41.547419  41.635262  41.084462  41.177054   92064708      0.0          1.0  \n",
       "2  41.393100  41.692242  41.293386  41.393100   80536368      0.0          1.0  \n",
       "3  41.388352  41.561664  41.169931  41.440583   85050456      0.0          1.0  \n",
       "4  41.378855  41.381229  41.072591  41.110578   94356516      0.0          1.0  "
      ]
     },
     "execution_count": 17,
     "metadata": {},
     "output_type": "execute_result"
    }
   ],
   "source": [
    "df.head()"
   ]
  },
  {
   "cell_type": "code",
   "execution_count": 20,
   "id": "c1b9d0d0",
   "metadata": {},
   "outputs": [
    {
     "data": {
      "text/plain": [
       "(1257,)"
      ]
     },
     "execution_count": 20,
     "metadata": {},
     "output_type": "execute_result"
    }
   ],
   "source": [
    "df1.shape"
   ]
  },
  {
   "cell_type": "code",
   "execution_count": 21,
   "id": "df126ed4",
   "metadata": {},
   "outputs": [
    {
     "data": {
      "text/plain": [
       "[<matplotlib.lines.Line2D at 0x1ad62ab7340>]"
      ]
     },
     "execution_count": 21,
     "metadata": {},
     "output_type": "execute_result"
    },
    {
     "data": {
      "image/png": "[encoded data removed]",
      "text/plain": [
       "<Figure size 640x480 with 1 Axes>"
      ]
     },
     "metadata": {},
     "output_type": "display_data"
    }
   ],
   "source": [
    "import matplotlib.pyplot as plt\n",
    "plt.plot(df1)"
   ]
  },
  {
   "cell_type": "code",
   "execution_count": 22,
   "id": "db04968e",
   "metadata": {},
   "outputs": [],
   "source": [
    "import numpy as np"
   ]
  },
  {
   "cell_type": "code",
   "execution_count": 28,
   "id": "88baba8d",
   "metadata": {},
   "outputs": [],
   "source": [
    "from sklearn.preprocessing import MinMaxScaler\n",
    "scaler=MinMaxScaler(feature_range=(0,1))\n",
    "f1=scaler.fit_transform(np.array(df1).reshape(-1,1))"
   ]
  },
  {
   "cell_type": "code",
   "execution_count": 29,
   "id": "c14e82dd",
   "metadata": {},
   "outputs": [
    {
     "data": {
      "text/plain": [
       "array([[0.16578585],\n",
       "       [0.1707201 ],\n",
       "       [0.16909205],\n",
       "       ...,\n",
       "       [0.04809017],\n",
       "       [0.05703193],\n",
       "       [0.05783344]])"
      ]
     },
     "execution_count": 29,
     "metadata": {},
     "output_type": "execute_result"
    }
   ],
   "source": [
    "df1"
   ]
  },
  {
   "cell_type": "code",
   "execution_count": 30,
   "id": "469f7cb9",
   "metadata": {},
   "outputs": [],
   "source": [
    "training_size = int(len(df1)*0.65)\n",
    "test_size = int(len(df1)*0.35)\n",
    "train_data,test_data = df1[0:training_size,:],df1[training_size:len(df1),:1]"
   ]
  },
  {
   "cell_type": "code",
   "execution_count": 35,
   "id": "7b2faef0",
   "metadata": {},
   "outputs": [],
   "source": [
    "import numpy as np\n",
    "def create_dataset(dataset, time_sep=1):\n",
    "    dataX, dataY = [], []\n",
    "    for i in range(len(dataset)-time_step-1):\n",
    "        a = dataset[i:(i+time_step), 0]\n",
    "        dataX.append(a)\n",
    "        dataY.append(dataset[i+time_step, 0])\n",
    "    return np.array(dataX), np.array(dataY)"
   ]
  },
  {
   "cell_type": "code",
   "execution_count": 36,
   "id": "c95ef4e5",
   "metadata": {},
   "outputs": [],
   "source": [
    "time_step = 100\n",
    "X_train, y_train = create_dataset(train_data, time_step)\n",
    "X_test, ytest = create_dataset(test_data, time_step)"
   ]
  },
  {
   "cell_type": "code",
   "execution_count": 38,
   "id": "275b405d",
   "metadata": {},
   "outputs": [
    {
     "name": "stdout",
     "output_type": "stream",
     "text": [
      "(716, 100)\n",
      "(716,)\n"
     ]
    },
    {
     "data": {
      "text/plain": [
       "(None, None)"
      ]
     },
     "execution_count": 38,
     "metadata": {},
     "output_type": "execute_result"
    }
   ],
   "source": [
    "print(X_train.shape), print(y_train.shape)"
   ]
  },
  {
   "cell_type": "code",
   "execution_count": 39,
   "id": "e3e736e8",
   "metadata": {},
   "outputs": [],
   "source": [
    "X_train = X_train.reshape(X_train.shape[0], X_train.shape[1], 1)\n",
    "X_test = X_test.reshape(X_test.shape[0], X_test.shape[1], 1)"
   ]
  },
  {
   "cell_type": "code",
   "execution_count": 40,
   "id": "db62be7a",
   "metadata": {},
   "outputs": [],
   "source": [
    "from tensorflow.keras.models import Sequential\n",
    "from tensorflow.keras.layers import Dense\n",
    "from tensorflow.keras.layers import LSTM"
   ]
  },
  {
   "cell_type": "code",
   "execution_count": 41,
   "id": "6aebfbda",
   "metadata": {},
   "outputs": [],
   "source": [
    "model = Sequential()\n",
    "model.add(LSTM(50, return_sequences=True,input_shape=(100,1)))\n",
    "model.add(LSTM(50, return_sequences=True))\n",
    "model.add(LSTM(50))\n",
    "model.add(Dense(1))\n",
    "model.compile(loss='mean_squared_error', optimizer='adam')"
   ]
  },
  {
   "cell_type": "code",
   "execution_count": 42,
   "id": "8cacaa15",
   "metadata": {},
   "outputs": [
    {
     "name": "stdout",
     "output_type": "stream",
     "text": [
      "Model: \"sequential\"\n",
      "_________________________________________________________________\n",
      " Layer (type)                Output Shape              Param #   \n",
      "=================================================================\n",
      " lstm (LSTM)                 (None, 100, 50)           10400     \n",
      "                                                                 \n",
      " lstm_1 (LSTM)               (None, 100, 50)           20200     \n",
      "                                                                 \n",
      " lstm_2 (LSTM)               (None, 50)                20200     \n",
      "                                                                 \n",
      " dense (Dense)               (None, 1)                 51        \n",
      "                                                                 \n",
      "=================================================================\n",
      "Total params: 50,851\n",
      "Trainable params: 50,851\n",
      "Non-trainable params: 0\n",
      "_________________________________________________________________\n"
     ]
    }
   ],
   "source": [
    "model.summary()"
   ]
  },
  {
   "cell_type": "code",
   "execution_count": 43,
   "id": "226b5ef5",
   "metadata": {},
   "outputs": [
    {
     "name": "stdout",
     "output_type": "stream",
     "text": [
      "Epoch 1/100\n",
      "12/12 [==============================] - 16s 532ms/step - loss: 0.0433 - val_loss: 0.0017\n",
      "Epoch 2/100\n",
      "12/12 [==============================] - 4s 304ms/step - loss: 0.0144 - val_loss: 0.0048\n",
      "Epoch 3/100\n",
      "12/12 [==============================] - 4s 300ms/step - loss: 0.0112 - val_loss: 4.3838e-04\n",
      "Epoch 4/100\n",
      "12/12 [==============================] - 4s 298ms/step - loss: 0.0095 - val_loss: 7.0166e-04\n",
      "Epoch 5/100\n",
      "12/12 [==============================] - 4s 300ms/step - loss: 0.0087 - val_loss: 0.0012\n",
      "Epoch 6/100\n",
      "12/12 [==============================] - 4s 312ms/step - loss: 0.0080 - val_loss: 3.7129e-04\n",
      "Epoch 7/100\n",
      "12/12 [==============================] - 4s 306ms/step - loss: 0.0074 - val_loss: 3.5040e-04\n",
      "Epoch 8/100\n",
      "12/12 [==============================] - 4s 305ms/step - loss: 0.0069 - val_loss: 3.5046e-04\n",
      "Epoch 9/100\n",
      "12/12 [==============================] - 4s 301ms/step - loss: 0.0061 - val_loss: 4.7152e-04\n",
      "Epoch 10/100\n",
      "12/12 [==============================] - 4s 300ms/step - loss: 0.0055 - val_loss: 3.8838e-04\n",
      "Epoch 11/100\n",
      "12/12 [==============================] - 4s 293ms/step - loss: 0.0051 - val_loss: 3.6822e-04\n",
      "Epoch 12/100\n",
      "12/12 [==============================] - 4s 295ms/step - loss: 0.0048 - val_loss: 3.4683e-04\n",
      "Epoch 13/100\n",
      "12/12 [==============================] - 4s 302ms/step - loss: 0.0056 - val_loss: 6.0218e-04\n",
      "Epoch 14/100\n",
      "12/12 [==============================] - 3s 283ms/step - loss: 0.0051 - val_loss: 2.9404e-04\n",
      "Epoch 15/100\n",
      "12/12 [==============================] - 3s 270ms/step - loss: 0.0040 - val_loss: 8.1224e-04\n",
      "Epoch 16/100\n",
      "12/12 [==============================] - 3s 294ms/step - loss: 0.0040 - val_loss: 3.3736e-04\n",
      "Epoch 17/100\n",
      "12/12 [==============================] - 3s 265ms/step - loss: 0.0038 - val_loss: 8.5589e-04\n",
      "Epoch 18/100\n",
      "12/12 [==============================] - 4s 301ms/step - loss: 0.0040 - val_loss: 3.0326e-04\n",
      "Epoch 19/100\n",
      "12/12 [==============================] - 4s 305ms/step - loss: 0.0042 - val_loss: 2.9721e-04\n",
      "Epoch 20/100\n",
      "12/12 [==============================] - 4s 304ms/step - loss: 0.0037 - val_loss: 2.8108e-04\n",
      "Epoch 21/100\n",
      "12/12 [==============================] - 4s 302ms/step - loss: 0.0031 - val_loss: 5.3407e-04\n",
      "Epoch 22/100\n",
      "12/12 [==============================] - 4s 293ms/step - loss: 0.0026 - val_loss: 2.7580e-04\n",
      "Epoch 23/100\n",
      "12/12 [==============================] - 4s 301ms/step - loss: 0.0028 - val_loss: 2.7491e-04\n",
      "Epoch 24/100\n",
      "12/12 [==============================] - 4s 301ms/step - loss: 0.0029 - val_loss: 7.0601e-04\n",
      "Epoch 25/100\n",
      "12/12 [==============================] - 4s 308ms/step - loss: 0.0030 - val_loss: 6.2969e-04\n",
      "Epoch 26/100\n",
      "12/12 [==============================] - 4s 301ms/step - loss: 0.0023 - val_loss: 2.8066e-04\n",
      "Epoch 27/100\n",
      "12/12 [==============================] - 4s 301ms/step - loss: 0.0025 - val_loss: 3.4322e-04\n",
      "Epoch 28/100\n",
      "12/12 [==============================] - 4s 305ms/step - loss: 0.0021 - val_loss: 3.2710e-04\n",
      "Epoch 29/100\n",
      "12/12 [==============================] - 3s 288ms/step - loss: 0.0020 - val_loss: 2.8478e-04\n",
      "Epoch 30/100\n",
      "12/12 [==============================] - 4s 306ms/step - loss: 0.0029 - val_loss: 2.8317e-04\n",
      "Epoch 31/100\n",
      "12/12 [==============================] - 4s 304ms/step - loss: 0.0027 - val_loss: 2.7270e-04\n",
      "Epoch 32/100\n",
      "12/12 [==============================] - 4s 297ms/step - loss: 0.0023 - val_loss: 2.7478e-04\n",
      "Epoch 33/100\n",
      "12/12 [==============================] - 4s 306ms/step - loss: 0.0020 - val_loss: 2.7785e-04\n",
      "Epoch 34/100\n",
      "12/12 [==============================] - 4s 301ms/step - loss: 0.0024 - val_loss: 4.8896e-04\n",
      "Epoch 35/100\n",
      "12/12 [==============================] - 4s 299ms/step - loss: 0.0024 - val_loss: 5.2565e-04\n",
      "Epoch 36/100\n",
      "12/12 [==============================] - 4s 301ms/step - loss: 0.0023 - val_loss: 2.8040e-04\n",
      "Epoch 37/100\n",
      "12/12 [==============================] - 4s 297ms/step - loss: 0.0021 - val_loss: 2.9459e-04\n",
      "Epoch 38/100\n",
      "12/12 [==============================] - 4s 294ms/step - loss: 0.0019 - val_loss: 2.6883e-04\n",
      "Epoch 39/100\n",
      "12/12 [==============================] - 4s 296ms/step - loss: 0.0018 - val_loss: 3.0574e-04\n",
      "Epoch 40/100\n",
      "12/12 [==============================] - 4s 295ms/step - loss: 0.0029 - val_loss: 4.0357e-04\n",
      "Epoch 41/100\n",
      "12/12 [==============================] - 4s 297ms/step - loss: 0.0023 - val_loss: 2.9256e-04\n",
      "Epoch 42/100\n",
      "12/12 [==============================] - 3s 288ms/step - loss: 0.0019 - val_loss: 2.6452e-04\n",
      "Epoch 43/100\n",
      "12/12 [==============================] - 3s 282ms/step - loss: 0.0029 - val_loss: 2.7540e-04\n",
      "Epoch 44/100\n",
      "12/12 [==============================] - 3s 293ms/step - loss: 0.0023 - val_loss: 3.1956e-04\n",
      "Epoch 45/100\n",
      "12/12 [==============================] - 3s 287ms/step - loss: 0.0017 - val_loss: 2.7931e-04\n",
      "Epoch 46/100\n",
      "12/12 [==============================] - 3s 292ms/step - loss: 0.0018 - val_loss: 3.0547e-04\n",
      "Epoch 47/100\n",
      "12/12 [==============================] - 4s 299ms/step - loss: 0.0016 - val_loss: 2.7903e-04\n",
      "Epoch 48/100\n",
      "12/12 [==============================] - 4s 300ms/step - loss: 0.0019 - val_loss: 2.8912e-04\n",
      "Epoch 49/100\n",
      "12/12 [==============================] - 4s 294ms/step - loss: 0.0017 - val_loss: 2.9594e-04\n",
      "Epoch 50/100\n",
      "12/12 [==============================] - 4s 300ms/step - loss: 0.0019 - val_loss: 2.7456e-04\n",
      "Epoch 51/100\n",
      "12/12 [==============================] - 4s 294ms/step - loss: 0.0033 - val_loss: 7.5806e-04\n",
      "Epoch 52/100\n",
      "12/12 [==============================] - 3s 291ms/step - loss: 0.0031 - val_loss: 5.1777e-04\n",
      "Epoch 53/100\n",
      "12/12 [==============================] - 4s 303ms/step - loss: 0.0019 - val_loss: 3.3517e-04\n",
      "Epoch 54/100\n",
      "12/12 [==============================] - 3s 288ms/step - loss: 0.0036 - val_loss: 3.0820e-04\n",
      "Epoch 55/100\n",
      "12/12 [==============================] - 3s 291ms/step - loss: 0.0049 - val_loss: 6.8598e-04\n",
      "Epoch 56/100\n",
      "12/12 [==============================] - 4s 299ms/step - loss: 0.0026 - val_loss: 4.4772e-04\n",
      "Epoch 57/100\n",
      "12/12 [==============================] - 4s 297ms/step - loss: 0.0025 - val_loss: 6.6876e-04\n",
      "Epoch 58/100\n",
      "12/12 [==============================] - 3s 283ms/step - loss: 0.0020 - val_loss: 2.7675e-04\n",
      "Epoch 59/100\n",
      "12/12 [==============================] - 3s 280ms/step - loss: 0.0014 - val_loss: 2.6436e-04\n",
      "Epoch 60/100\n",
      "12/12 [==============================] - 3s 286ms/step - loss: 0.0019 - val_loss: 3.0724e-04\n",
      "Epoch 61/100\n",
      "12/12 [==============================] - 3s 286ms/step - loss: 0.0017 - val_loss: 2.5834e-04\n",
      "Epoch 62/100\n",
      "12/12 [==============================] - 3s 286ms/step - loss: 0.0021 - val_loss: 3.2357e-04\n",
      "Epoch 63/100\n",
      "12/12 [==============================] - 3s 287ms/step - loss: 0.0016 - val_loss: 3.1064e-04\n",
      "Epoch 64/100\n",
      "12/12 [==============================] - 3s 289ms/step - loss: 0.0016 - val_loss: 2.6361e-04\n",
      "Epoch 65/100\n",
      "12/12 [==============================] - 3s 288ms/step - loss: 0.0014 - val_loss: 2.7149e-04\n",
      "Epoch 66/100\n",
      "12/12 [==============================] - 3s 288ms/step - loss: 0.0019 - val_loss: 3.8893e-04\n",
      "Epoch 67/100\n",
      "12/12 [==============================] - 3s 286ms/step - loss: 0.0023 - val_loss: 2.7335e-04\n",
      "Epoch 68/100\n",
      "12/12 [==============================] - 4s 301ms/step - loss: 0.0019 - val_loss: 3.0300e-04\n",
      "Epoch 69/100\n",
      "12/12 [==============================] - 4s 296ms/step - loss: 0.0026 - val_loss: 4.4472e-04\n",
      "Epoch 70/100\n",
      "12/12 [==============================] - 3s 290ms/step - loss: 0.0034 - val_loss: 4.2492e-04\n",
      "Epoch 71/100\n",
      "12/12 [==============================] - 3s 284ms/step - loss: 0.0037 - val_loss: 3.1155e-04\n",
      "Epoch 72/100\n",
      "12/12 [==============================] - 3s 284ms/step - loss: 0.0025 - val_loss: 2.8629e-04\n",
      "Epoch 73/100\n",
      "12/12 [==============================] - 3s 287ms/step - loss: 0.0018 - val_loss: 3.0196e-04\n",
      "Epoch 74/100\n",
      "12/12 [==============================] - 3s 285ms/step - loss: 0.0020 - val_loss: 2.6522e-04\n",
      "Epoch 75/100\n",
      "12/12 [==============================] - 4s 295ms/step - loss: 0.0017 - val_loss: 3.1232e-04\n",
      "Epoch 76/100\n",
      "12/12 [==============================] - 3s 291ms/step - loss: 0.0017 - val_loss: 2.4665e-04\n",
      "Epoch 77/100\n",
      "12/12 [==============================] - 3s 290ms/step - loss: 0.0018 - val_loss: 2.4878e-04\n",
      "Epoch 78/100\n"
     ]
    },
    {
     "name": "stdout",
     "output_type": "stream",
     "text": [
      "12/12 [==============================] - 3s 287ms/step - loss: 0.0015 - val_loss: 2.8565e-04\n",
      "Epoch 79/100\n",
      "12/12 [==============================] - 4s 295ms/step - loss: 0.0017 - val_loss: 3.1351e-04\n",
      "Epoch 80/100\n",
      "12/12 [==============================] - 3s 293ms/step - loss: 0.0013 - val_loss: 2.6430e-04\n",
      "Epoch 81/100\n",
      "12/12 [==============================] - 3s 286ms/step - loss: 0.0013 - val_loss: 3.1791e-04\n",
      "Epoch 82/100\n",
      "12/12 [==============================] - 3s 287ms/step - loss: 0.0013 - val_loss: 2.9546e-04\n",
      "Epoch 83/100\n",
      "12/12 [==============================] - 3s 280ms/step - loss: 0.0026 - val_loss: 9.7669e-04\n",
      "Epoch 84/100\n",
      "12/12 [==============================] - 3s 279ms/step - loss: 0.0026 - val_loss: 2.5972e-04\n",
      "Epoch 85/100\n",
      "12/12 [==============================] - 3s 284ms/step - loss: 0.0020 - val_loss: 2.6728e-04\n",
      "Epoch 86/100\n",
      "12/12 [==============================] - 3s 282ms/step - loss: 0.0018 - val_loss: 2.8708e-04\n",
      "Epoch 87/100\n",
      "12/12 [==============================] - 3s 271ms/step - loss: 0.0014 - val_loss: 2.7062e-04\n",
      "Epoch 88/100\n",
      "12/12 [==============================] - 3s 284ms/step - loss: 0.0015 - val_loss: 2.5304e-04\n",
      "Epoch 89/100\n",
      "12/12 [==============================] - 3s 289ms/step - loss: 0.0011 - val_loss: 3.3052e-04\n",
      "Epoch 90/100\n",
      "12/12 [==============================] - 3s 282ms/step - loss: 0.0015 - val_loss: 2.4980e-04\n",
      "Epoch 91/100\n",
      "12/12 [==============================] - 3s 294ms/step - loss: 0.0014 - val_loss: 2.8236e-04\n",
      "Epoch 92/100\n",
      "12/12 [==============================] - 3s 282ms/step - loss: 0.0040 - val_loss: 3.8759e-04\n",
      "Epoch 93/100\n",
      "12/12 [==============================] - 3s 283ms/step - loss: 0.0072 - val_loss: 2.9832e-04\n",
      "Epoch 94/100\n",
      "12/12 [==============================] - 4s 296ms/step - loss: 0.0055 - val_loss: 5.6601e-04\n",
      "Epoch 95/100\n",
      "12/12 [==============================] - 4s 294ms/step - loss: 0.0046 - val_loss: 3.0673e-04\n",
      "Epoch 96/100\n",
      "12/12 [==============================] - 3s 294ms/step - loss: 0.0044 - val_loss: 3.5495e-04\n",
      "Epoch 97/100\n",
      "12/12 [==============================] - 3s 289ms/step - loss: 0.0034 - val_loss: 3.5375e-04\n",
      "Epoch 98/100\n",
      "12/12 [==============================] - 3s 286ms/step - loss: 0.0052 - val_loss: 6.6259e-04\n",
      "Epoch 99/100\n",
      "12/12 [==============================] - 3s 292ms/step - loss: 0.0030 - val_loss: 2.4740e-04\n",
      "Epoch 100/100\n",
      "12/12 [==============================] - 4s 298ms/step - loss: 0.0030 - val_loss: 2.8723e-04\n"
     ]
    },
    {
     "data": {
      "text/plain": [
       "<keras.callbacks.History at 0x1ad6c6da730>"
      ]
     },
     "execution_count": 43,
     "metadata": {},
     "output_type": "execute_result"
    }
   ],
   "source": [
    "model.fit(X_train, y_train, validation_data=(X_test, ytest), epochs=100, batch_size=64, verbose=1)"
   ]
  },
  {
   "cell_type": "code",
   "execution_count": 51,
   "id": "8a8e5132",
   "metadata": {},
   "outputs": [
    {
     "name": "stdout",
     "output_type": "stream",
     "text": [
      "23/23 [==============================] - 1s 28ms/step\n",
      "11/11 [==============================] - 0s 27ms/step\n"
     ]
    }
   ],
   "source": [
    "train_predict = model.predict(X_train)\n",
    "test_predict = model.predict(X_test)"
   ]
  },
  {
   "cell_type": "code",
   "execution_count": 52,
   "id": "b98a31ed",
   "metadata": {},
   "outputs": [],
   "source": [
    "train_predict=scaler.inverse_transform(train_predict)\n",
    "test_predict=scaler.inverse_transform(test_predict)"
   ]
  },
  {
   "cell_type": "code",
   "execution_count": 53,
   "id": "5e609800",
   "metadata": {},
   "outputs": [
    {
     "data": {
      "text/plain": [
       "0.04889037013252859"
      ]
     },
     "execution_count": 53,
     "metadata": {},
     "output_type": "execute_result"
    }
   ],
   "source": [
    "import math\n",
    "from sklearn.metrics import mean_squared_error\n",
    "math.sqrt(mean_squared_error(y_train, train_predict))"
   ]
  },
  {
   "cell_type": "code",
   "execution_count": 54,
   "id": "636b85b8",
   "metadata": {},
   "outputs": [
    {
     "data": {
      "text/plain": [
       "0.016947739008743256"
      ]
     },
     "execution_count": 54,
     "metadata": {},
     "output_type": "execute_result"
    }
   ],
   "source": [
    "math.sqrt(mean_squared_error(ytest, test_predict))"
   ]
  },
  {
   "cell_type": "code",
   "execution_count": null,
   "id": "f03931ad",
   "metadata": {},
   "outputs": [],
   "source": []
  }
 ],
 "metadata": {
  "kernelspec": {
   "display_name": "Python 3 (ipykernel)",
   "language": "python",
   "name": "python3"
  },
  "language_info": {
   "codemirror_mode": {
    "name": "ipython",
    "version": 3
   },
   "file_extension": ".py",
   "mimetype": "text/x-python",
   "name": "python",
   "nbconvert_exporter": "python",
   "pygments_lexer": "ipython3",
   "version": "3.9.13"
  }
 },
 "nbformat": 4,
 "nbformat_minor": 5
}
